{
 "cells": [
  {
   "cell_type": "markdown",
   "metadata": {},
   "source": [
    "# Hierarchical Clustering on Iris Dataset\n",
    "\n",
    "Usage guidelines can be found in README.md of the repository this file resides in."
   ]
  },
  {
   "cell_type": "markdown",
   "metadata": {},
   "source": [
    "## Setup\n",
    "\n",
    "Imports and loading data"
   ]
  },
  {
   "cell_type": "code",
   "execution_count": 1,
   "metadata": {},
   "outputs": [],
   "source": [
    "from sklearn.datasets import load_iris\n",
    "from sklearn.metrics import normalized_mutual_info_score as sk_nmi\n",
    "from sklearn import preprocessing\n",
    "from scipy.cluster import hierarchy\n",
    "from functools import reduce, partial\n",
    "import operator as op\n",
    "import matplotlib.pyplot as plt\n",
    "import numpy as np\n",
    "import threading"
   ]
  },
  {
   "cell_type": "code",
   "execution_count": 2,
   "metadata": {},
   "outputs": [],
   "source": [
    "iris = load_iris()\n",
    "iris.orig_data = iris.data\n",
    "# iris"
   ]
  },
  {
   "cell_type": "code",
   "execution_count": 3,
   "metadata": {},
   "outputs": [],
   "source": [
    "# normalize data\n",
    "iris.norm_data = preprocessing.scale(iris.orig_data)"
   ]
  },
  {
   "cell_type": "code",
   "execution_count": 4,
   "metadata": {},
   "outputs": [],
   "source": [
    "labels = []\n",
    "counter = -1\n",
    "current = iris.target[0]\n",
    "for l in iris.target:\n",
    "    if l == current:\n",
    "        counter += 1\n",
    "    else:\n",
    "        current = l\n",
    "        counter = 0\n",
    "    labels.append(str(l)+\":\"+str(counter))"
   ]
  },
  {
   "cell_type": "markdown",
   "metadata": {},
   "source": [
    "## Distance functions\n",
    "\n",
    "Manhattan and vector distance"
   ]
  },
  {
   "cell_type": "code",
   "execution_count": 5,
   "metadata": {},
   "outputs": [],
   "source": [
    "# one and two are lists of length 4, corresponding to the 4 cols in iris.data\n",
    "def manhattan_dist(weights, one, two):\n",
    "    dist = 0\n",
    "    for i in range(4):\n",
    "        dist += abs(one[i] - two[i]) * weights[i]\n",
    "        \n",
    "    return dist"
   ]
  },
  {
   "cell_type": "code",
   "execution_count": 6,
   "metadata": {},
   "outputs": [],
   "source": [
    "def vector_dist(weights, one, two):\n",
    "    dist = 0\n",
    "    for i in range(4):\n",
    "        dist += abs(one[i] - two[i]) ** 2 * weights[i]\n",
    "        \n",
    "    return dist ** .5"
   ]
  },
  {
   "cell_type": "markdown",
   "metadata": {},
   "source": [
    "## Cluster Similarity Functions\n",
    "\n",
    "Simple (closest two datapoints), complete (farthest two datapoints), and average (average of datapoints)."
   ]
  },
  {
   "cell_type": "code",
   "execution_count": 7,
   "metadata": {},
   "outputs": [],
   "source": [
    "# one and two are both clusters represented as lists of indices\n",
    "def simple_distance(one, two, dist_metric):\n",
    "    dist = dist_metric(iris.data[one[0]], iris.data[two[0]])\n",
    "    for one_elem in one:\n",
    "        for two_elem in two:\n",
    "            cur_dist = dist_metric(iris.data[one_elem], iris.data[two_elem])\n",
    "            if cur_dist < dist:\n",
    "                dist = cur_dist\n",
    "                \n",
    "    return dist"
   ]
  },
  {
   "cell_type": "code",
   "execution_count": 8,
   "metadata": {},
   "outputs": [],
   "source": [
    "# one and two are both clusters represented as lists of indices\n",
    "def complete_distance(one, two, dist_metric):\n",
    "    dist = dist_metric(iris.data[one[0]], iris.data[two[0]])\n",
    "    for one_elem in one:\n",
    "        for two_elem in two:\n",
    "            cur_dist = dist_metric(iris.data[one_elem], iris.data[two_elem])\n",
    "            if cur_dist > dist:\n",
    "                dist = cur_dist\n",
    "                \n",
    "    return dist"
   ]
  },
  {
   "cell_type": "code",
   "execution_count": 9,
   "metadata": {},
   "outputs": [],
   "source": [
    "# one and two are both clusters represented as lists of indices\n",
    "# should use weights for this one?\n",
    "def average_distance(one, two, dist_metric):\n",
    "    one_avg = [0.,0.,0.,0.]\n",
    "    for one_elem in one:\n",
    "        one_avg[0] += iris.data[one_elem][0]\n",
    "        one_avg[1] += iris.data[one_elem][1]\n",
    "        one_avg[2] += iris.data[one_elem][2]\n",
    "        one_avg[3] += iris.data[one_elem][3]\n",
    "    \n",
    "    one_avg[0] /= len(one)\n",
    "    one_avg[1] /= len(one)\n",
    "    one_avg[2] /= len(one)\n",
    "    one_avg[3] /= len(one)\n",
    "    \n",
    "    two_avg = [0.,0.,0.,0.]\n",
    "    for two_elem in two:\n",
    "        two_avg[0] += iris.data[two_elem][0]\n",
    "        two_avg[1] += iris.data[two_elem][1]\n",
    "        two_avg[2] += iris.data[two_elem][2]\n",
    "        two_avg[3] += iris.data[two_elem][3]\n",
    "    \n",
    "    two_avg[0] /= len(two)\n",
    "    two_avg[1] /= len(two)\n",
    "    two_avg[2] /= len(two)\n",
    "    two_avg[3] /= len(two)\n",
    "    \n",
    "    return dist_metric(one_avg, two_avg)"
   ]
  },
  {
   "cell_type": "markdown",
   "metadata": {},
   "source": [
    "## Helper Functions"
   ]
  },
  {
   "cell_type": "code",
   "execution_count": 10,
   "metadata": {},
   "outputs": [],
   "source": [
    "def make_condensed_dist_mat(fun, dist_metric):\n",
    "    dists = []\n",
    "    for i in range(len(iris.data)):\n",
    "        for j in range(i+1, len(iris.data)):\n",
    "            dist = fun(list([i]), list([j]), dist_metric)\n",
    "            dists.append(dist)\n",
    "            \n",
    "    return dists"
   ]
  },
  {
   "cell_type": "code",
   "execution_count": 11,
   "metadata": {},
   "outputs": [],
   "source": [
    "def find_clusters(Z, pick_left=True):\n",
    "    # five possible cases to choose three clusters, assuming num_leafs >= 3\n",
    "    num_leafs = len(iris.data)\n",
    "    root_cluster = Z[len(Z)-1]\n",
    "    \n",
    "    # 1. leaf is left cluster of root cluster\n",
    "    if root_cluster[0] < len(iris.data):\n",
    "        child_cluster = Z[root_cluster[1]-num_leafs]\n",
    "        cluster_indices = [root_cluster[0], child_cluster[0], child_cluster[1]]\n",
    "    \n",
    "    # 2. leaf is right cluster of root cluster\n",
    "    elif root_cluster[1] < len(iris.data):\n",
    "        child_cluster = Z[root_cluster[0]-num_leafs]\n",
    "        cluster_indices = [root_cluster[1], child_cluster[0], child_cluster[1]]\n",
    "        \n",
    "    # 3. children of root cluster have equal distance-measures in Z\n",
    "    else:\n",
    "        left_cluster = Z[root_cluster[0]-num_leafs]\n",
    "        right_cluster = Z[root_cluster[1]-num_leafs]\n",
    "        \n",
    "        if left_cluster[2] == right_cluster[2]:\n",
    "            if pick_left:\n",
    "                cluster_indices = [left_cluster[0], left_cluster[1], root_cluster[1]]\n",
    "            else:\n",
    "                cluster_indices = [right_cluster[0], right_cluster[1], root_cluster[0]]\n",
    "    \n",
    "    # 4. left child of root has higher distance-measure in Z\n",
    "        elif left_cluster[2] > right_cluster[2]:\n",
    "            cluster_indices = [left_cluster[0], left_cluster[1], root_cluster[1]]\n",
    "            \n",
    "    # 5. right child of root has higher distance-measure in Z\n",
    "        else:\n",
    "            cluster_indices = [right_cluster[0], right_cluster[1], root_cluster[0]]\n",
    "                \n",
    "    clusters = []\n",
    "    for head in cluster_indices:\n",
    "        cluster = []\n",
    "        to_process = [head]\n",
    "        while len(to_process) > 0:\n",
    "            cur = int(to_process[0])\n",
    "            to_process.pop(0)\n",
    "            \n",
    "            if cur < len(iris.data):\n",
    "                cluster.append(cur)\n",
    "            else:\n",
    "                one = Z[cur-num_leafs][0]\n",
    "                two = Z[cur-num_leafs][1]\n",
    "                to_process.append(one)\n",
    "                to_process.append(two)\n",
    "                \n",
    "        clusters.append(cluster)\n",
    "                \n",
    "    return cluster_indices, clusters"
   ]
  },
  {
   "cell_type": "code",
   "execution_count": 12,
   "metadata": {},
   "outputs": [],
   "source": [
    "def make_cluster_label_map(cluster_indices, clusters):\n",
    "    label_counts = { i : {0: 0, 1: 0, 2: 0} for i in cluster_indices}\n",
    "    for i in range(len(cluster_indices)):\n",
    "        index = cluster_indices[i]\n",
    "        cluster = clusters[i]\n",
    "        \n",
    "        for elem in cluster:\n",
    "            label = iris.target[elem]\n",
    "            label_counts[index][label] += 1\n",
    "            \n",
    "    return label_counts"
   ]
  },
  {
   "cell_type": "markdown",
   "metadata": {},
   "source": [
    "## Cluster Evaluation Functions\n",
    "\n",
    "Purity, Rand index, and normalized mutual information (NMI)"
   ]
  },
  {
   "cell_type": "code",
   "execution_count": 13,
   "metadata": {},
   "outputs": [],
   "source": [
    "def purity(cluster_indices, clusters):\n",
    "    label_counts = make_cluster_label_map(cluster_indices, clusters)\n",
    "    \n",
    "    correctly_assigned = 0\n",
    "    for cluster_index in label_counts:\n",
    "        cluster = label_counts[cluster_index]\n",
    "        if cluster[0] >= cluster[1] and cluster[0] >= cluster[2]:\n",
    "            cluster_label = 0\n",
    "            correctly_assigned += cluster[0]\n",
    "        elif cluster[1] >= cluster[0] and cluster[1] >= cluster[2]:\n",
    "            cluster_label = 1\n",
    "            correctly_assigned += cluster[1]\n",
    "        else:\n",
    "            cluster_label = 2\n",
    "            correctly_assigned += cluster[2]\n",
    "            \n",
    "    return correctly_assigned / len(iris.data)"
   ]
  },
  {
   "cell_type": "code",
   "execution_count": 14,
   "metadata": {},
   "outputs": [],
   "source": [
    "# https://stackoverflow.com/questions/4941753/is-there-a-math-ncr-function-in-python\n",
    "def ncr(n, r):\n",
    "    r = min(r, n-r)\n",
    "    numer = reduce(op.mul, range(n, n-r, -1), 1)\n",
    "    denom = reduce(op.mul, range(1, r+1), 1)\n",
    "    return numer // denom\n",
    "\n",
    "# https://nlp.stanford.edu/IR-book/html/htmledition/evaluation-of-clustering-1.html\n",
    "# https://stats.stackexchange.com/questions/15158/precision-and-recall-for-clustering\n",
    "def RI(cluster_indices, clusters): \n",
    "    label_counts = make_cluster_label_map(cluster_indices, clusters)\n",
    "    \n",
    "    tp, fp, allp, tn, fn, alln, N = 0, 0, 0, 0, 0, 0, 0\n",
    "    label_distr = { i : [0, 0, 0] for i in range(3) }\n",
    "    for i in range(len(cluster_indices)): # should be equivalent to range(3)\n",
    "        cluster_index = cluster_indices[i]\n",
    "        cluster = label_counts[cluster_index]\n",
    "        cluster_size = len(clusters[i])\n",
    "        N += cluster_size\n",
    "        \n",
    "        allp += ncr(cluster_size, 2)\n",
    "        for l in range(3):\n",
    "            cur = cluster[l]\n",
    "            if cur >= 2:\n",
    "                tp += ncr(cur, 2)\n",
    "            label_distr[l][i] += cur\n",
    "            \n",
    "    fp = allp - tp\n",
    "    alln = ncr(N, 2) - allp\n",
    "    \n",
    "    for i in range(len(label_distr)): # should be equivalent to range(3)\n",
    "        cur_distr = label_distr[i]\n",
    "        fn += cur_distr[0] * cur_distr[1] + cur_distr[0] * cur_distr[2] + cur_distr[1] * cur_distr[2]\n",
    "        \n",
    "    tn = alln - fn\n",
    "    \n",
    "    return (tp + tn)/(tp + fp + fn + tn)\n",
    "        "
   ]
  },
  {
   "cell_type": "code",
   "execution_count": 15,
   "metadata": {},
   "outputs": [],
   "source": [
    "# https://nlp.stanford.edu/IR-book/html/htmledition/evaluation-of-clustering-1.html\n",
    "# https://scikit-learn.org/stable/modules/generated/sklearn.metrics.normalized_mutual_info_score.html\n",
    "def NMI(cluster_indices, clusters):    \n",
    "    expected = iris.target\n",
    "    actual = [-1 for i in range(len(expected))]\n",
    "    label_counts = make_cluster_label_map(cluster_indices, clusters)\n",
    "    \n",
    "    for i in range(len(cluster_indices)):\n",
    "        cluster_index = cluster_indices[i]\n",
    "        cluster = clusters[i]\n",
    "        labels = label_counts[cluster_index]\n",
    "        if labels[0] >= labels[1] and labels[0] >= labels[2]:\n",
    "            cluster_label = 0\n",
    "        elif labels[1] >= labels[0] and labels[1] >= labels[2]:\n",
    "            cluster_label = 1\n",
    "        else:\n",
    "            cluster_label = 2\n",
    "            \n",
    "        for leaf in cluster:\n",
    "            actual[leaf] = cluster_label\n",
    "            \n",
    "    return sk_nmi(expected, actual, average_method='arithmetic')"
   ]
  },
  {
   "cell_type": "markdown",
   "metadata": {},
   "source": [
    "## Clustering Function"
   ]
  },
  {
   "cell_type": "code",
   "execution_count": 16,
   "metadata": {},
   "outputs": [],
   "source": [
    "def cluster(distance_func, dist_metric):\n",
    "    num_leafs = len(iris.data)\n",
    "    clusters = { i : [i] for i in range(num_leafs)}\n",
    "    \n",
    "    # init distances for original data points\n",
    "    distances = {}\n",
    "    for i in range(num_leafs):\n",
    "        if i not in distances:\n",
    "            distances[i] = {}\n",
    "        for j in range(i+1, num_leafs):\n",
    "            if not j in distances:\n",
    "                distances[j] = {}\n",
    "            dist = dist_metric(iris.data[i], iris.data[j])\n",
    "            distances[i][j] = dist\n",
    "            distances[j][i] = dist\n",
    "        \n",
    "    Z = []\n",
    "    \n",
    "    #form clusters\n",
    "    next_cluster = num_leafs\n",
    "    while len(clusters) > 1:\n",
    "        # find closest clusters\n",
    "        dist, c1, c2 = np.inf, None, None     \n",
    "        for i in clusters:\n",
    "            for j in clusters:\n",
    "                if i == j:\n",
    "                    continue\n",
    "                cur_dist = distances[i][j]\n",
    "                if cur_dist < dist:\n",
    "                    dist = cur_dist\n",
    "                    c1 = i\n",
    "                    c2 = j\n",
    "                    \n",
    "        #print(\"New cluster \", next_cluster, \" combining \", c1, \"and\", c2)\n",
    "                \n",
    "        # create new cluster\n",
    "        cluster_leaves = clusters[c1] + clusters[c2]\n",
    "        clusters[next_cluster] = cluster_leaves\n",
    "        \n",
    "        # find distances between all other clusters and the new one\n",
    "        distances[next_cluster] = {}\n",
    "        for i in clusters:\n",
    "            if i == next_cluster or i == c1 or i == c2:\n",
    "                continue\n",
    "            cur_dist = distance_func(clusters[i], cluster_leaves, dist_metric)\n",
    "            distances[next_cluster][i] = cur_dist\n",
    "            distances[i][next_cluster] = cur_dist\n",
    "            \n",
    "            del distances[i][c1]\n",
    "            del distances[i][c2]\n",
    "        \n",
    "        # delete old clusters\n",
    "        del clusters[c1]\n",
    "        del clusters[c2]\n",
    "        del distances[c1]\n",
    "        del distances[c2]\n",
    "        \n",
    "        # append to Z\n",
    "        Z.append([c1, c2, dist, len(cluster_leaves)])\n",
    "        \n",
    "        # increment next cluster\n",
    "        next_cluster += 1\n",
    "        \n",
    "    return Z"
   ]
  },
  {
   "cell_type": "code",
   "execution_count": 17,
   "metadata": {},
   "outputs": [],
   "source": [
    "def cluster_and_analyze(normalized, distance_func, dist_metric, use_weights=[1,1,1,1]):    \n",
    "    if normalized:\n",
    "        iris.data = iris.norm_data\n",
    "    else:\n",
    "        iris.data = iris.orig_data\n",
    "        \n",
    "    w_dist_metric = partial(dist_metric, use_weights)\n",
    "    Z = cluster(distance_func, w_dist_metric)\n",
    "    \n",
    "    plt.figure(figsize=(14, 6), dpi=80)\n",
    "    dn = hierarchy.dendrogram(Z, labels=labels, leaf_rotation=90)\n",
    "    plt.show()\n",
    "    \n",
    "    cluster_indices, clusters = find_clusters(Z)\n",
    "    print(cluster_indices)\n",
    "    print(\"purity:\", purity(cluster_indices, clusters))\n",
    "    print(\"RI:\", RI(cluster_indices, clusters))\n",
    "    print(\"NMI:\", NMI(cluster_indices, clusters))"
   ]
  },
  {
   "cell_type": "markdown",
   "metadata": {},
   "source": [
    "## Clustering Playground"
   ]
  },
  {
   "cell_type": "code",
   "execution_count": 18,
   "metadata": {},
   "outputs": [
    {
     "data": {
      "image/png": "[encoded data removed]",
      "text/plain": [
       "<Figure size 1120x480 with 1 Axes>"
      ]
     },
     "metadata": {
      "needs_background": "light"
     },
     "output_type": "display_data"
    },
    {
     "name": "stdout",
     "output_type": "stream",
     "text": [
      "[292, 296, 295]\n",
      "purity: 0.9\n",
      "RI: 0.8859060402684564\n",
      "NMI: 0.7979885217013319\n"
     ]
    }
   ],
   "source": [
    "cluster_and_analyze(True, average_distance, manhattan_dist, use_weights=[1.25,.75,1,1])"
   ]
  },
  {
   "cell_type": "markdown",
   "metadata": {},
   "source": [
    "## Weighting Playground"
   ]
  },
  {
   "cell_type": "code",
   "execution_count": 19,
   "metadata": {},
   "outputs": [],
   "source": [
    "# using the specified weights, will write to a file the purity, RI, and NMI values\n",
    "# of all combinations of distance metrics and cluster similarity measures\n",
    "def evaluate_with_weights(use_weights, filename='output.txt'):\n",
    "    fout = open(filename, 'w')\n",
    "    \n",
    "    dist_metrics = [partial(manhattan_dist, use_weights), partial(vector_dist, use_weights)]\n",
    "    clust_sims = [simple_distance, complete_distance, average_distance]\n",
    "    \n",
    "    iris.data = iris.norm_data\n",
    "    \n",
    "    for clust_sim in clust_sims:\n",
    "        for dist_metric in dist_metrics:\n",
    "            Z = cluster(clust_sim, dist_metric)\n",
    "            cluster_indices, clusters = find_clusters(Z)\n",
    "            fout.write(str(round(purity(cluster_indices, clusters),5)))\n",
    "            fout.write('\\t'+str(round(RI(cluster_indices, clusters),5)))\n",
    "            fout.write('\\t'+str(round(NMI(cluster_indices, clusters),5))+'\\n')"
   ]
  },
  {
   "cell_type": "code",
   "execution_count": 20,
   "metadata": {},
   "outputs": [],
   "source": [
    "def get_index_name(index):\n",
    "    if index == 0: return \"sepal length\"\n",
    "    if index == 1: return \"sepal width\"\n",
    "    if index == 2: return \"petal length\"\n",
    "    return \"petal width\"\n",
    "\n",
    "def hyphenate_dists(clust_sim, dist_metric):\n",
    "    idx = clust_sim.__name__.index(\"_\")\n",
    "    clust_name = clust_sim.__name__[0:idx]\n",
    "    \n",
    "    idx = dist_metric.__name__.index(\"_\")\n",
    "    dist_name = dist_metric.__name__[0:idx]\n",
    "    \n",
    "    return clust_name+\"-\"+dist_name\n",
    "\n",
    "# creates a plot with weight_range on the x axis and the cluster evaluation measures on\n",
    "# the y axis using the specified cluster similarity measure, distance metric, and weights\n",
    "# for the remaining data measures\n",
    "def plot_weight_range(use_weights, weight_index, weight_range, clust_sim, dist_metric):\n",
    "    measures = np.zeros((3, len(weight_range)))\n",
    "    \n",
    "    for i, wt in enumerate(weight_range):\n",
    "        use_weights[weight_index] = wt\n",
    "        dm = partial(dist_metric, use_weights)\n",
    "        \n",
    "        Z = cluster(clust_sim, dm)\n",
    "        cluster_indices, clusters = find_clusters(Z)\n",
    "        \n",
    "        measures[0,i] = purity(cluster_indices, clusters)\n",
    "        measures[1,i] = RI(cluster_indices, clusters)\n",
    "        measures[2,i] = NMI(cluster_indices, clusters)\n",
    "        \n",
    "    plt.plot(weight_range, measures[0], \"r\", linewidth=1)\n",
    "    plt.plot(weight_range, measures[1], \"g\", linewidth=1)\n",
    "    plt.plot(weight_range, measures[2], \"b\", linewidth=1)\n",
    "    plt.ylim([.2,1])\n",
    "    plt.title(\"Varying measure: \"+str(weight_index)+\" (\"+get_index_name(weight_index)+\")\\n\" + \\\n",
    "             hyphenate_dists(clust_sim, dist_metric))\n",
    "    plt.show()"
   ]
  },
  {
   "cell_type": "code",
   "execution_count": 21,
   "metadata": {},
   "outputs": [],
   "source": [
    "def thread_wrapper(arr, idx, clust_sim, dist_metric, clust_eval):\n",
    "    Z = cluster(clust_sim, dist_metric)\n",
    "    cluster_indices, clusters = find_clusters(Z)\n",
    "    measure = clust_eval(cluster_indices, clusters)\n",
    "    arr[idx] = measure\n",
    "\n",
    "def greedy_optimize(clust_sim, dist_metric, threshold, clust_eval):\n",
    "    weights = [1,1,1,1]\n",
    "    dm = partial(dist_metric, weights)\n",
    "    Z = cluster(clust_sim, dm)\n",
    "    cluster_indices, clusters = find_clusters(Z)\n",
    "    \n",
    "    prev_weight = weights\n",
    "    prev_measure = clust_eval(cluster_indices, clusters)\n",
    "    \n",
    "    print(str(prev_weight)+\"\\t\"+str(prev_measure))\n",
    "    \n",
    "    diff = threshold + 1\n",
    "    while diff > threshold:\n",
    "        threads = []\n",
    "        weights_arr = []\n",
    "        results = [0 for i in range(24)]\n",
    "        thread_num = 0\n",
    "        for idx in range(0, 4):\n",
    "            for change in [-1, -.5, -.25, .25, .5, 1]:\n",
    "                temp_weights = prev_weight.copy()\n",
    "                temp_weights[idx] += change\n",
    "                weights_arr.append(temp_weights)\n",
    "                \n",
    "                dm = partial(dist_metric, temp_weights)\n",
    "                \n",
    "                x = threading.Thread(target=thread_wrapper, \\\n",
    "                                     args=(results,thread_num,clust_sim,dm,clust_eval,))\n",
    "                threads.append(x)\n",
    "                thread_num += 1\n",
    "                \n",
    "        for thread in threads:\n",
    "            thread.start()\n",
    "            \n",
    "        for thread in threads:\n",
    "            thread.join()\n",
    "            \n",
    "        best = 0\n",
    "        best_measure = results[0]\n",
    "        for i in range(1, 24):\n",
    "            if results[i] > best_measure:\n",
    "                best = i\n",
    "                best_measure = results[i]\n",
    "                    \n",
    "        best_weight = weights_arr[best]\n",
    "        \n",
    "        print(str(best_weight)+\"\\t\"+str(best_measure))\n",
    "        diff = best_measure - prev_measure\n",
    "        if diff > 0:\n",
    "            prev_weight = best_weight\n",
    "            prev_measure = best_measure\n",
    "            \n",
    "    print(\"done\")\n",
    "    print(str(prev_weight)+\"\\t\"+str(prev_measure))"
   ]
  },
  {
   "cell_type": "code",
   "execution_count": 22,
   "metadata": {},
   "outputs": [
    {
     "data": {
      "image/png": "[encoded data removed]",
      "text/plain": [
       "<Figure size 432x288 with 1 Axes>"
      ]
     },
     "metadata": {
      "needs_background": "light"
     },
     "output_type": "display_data"
    }
   ],
   "source": [
    "plot_weight_range([1,1,1,1], 0, range(0, 10), complete_distance, manhattan_dist)"
   ]
  },
  {
   "cell_type": "code",
   "execution_count": 23,
   "metadata": {},
   "outputs": [
    {
     "name": "stdout",
     "output_type": "stream",
     "text": [
      "[1, 1, 1, 1]\t0.6952305848849707\n",
      "[1, 1, 2, 1]\t0.7560871362392072\n",
      "[1, 1, 2, 2]\t0.8622701718997605\n",
      "[0.5, 1, 2, 2]\t0.8641855068202222\n",
      "[0.5, 1.25, 2, 2]\t0.8850620966553381\n",
      "[0.5, 1.25, 2.5, 2]\t0.8850620966553381\n",
      "done\n",
      "[0.5, 1.25, 2, 2]\t0.8850620966553381\n"
     ]
    }
   ],
   "source": [
    "greedy_optimize(complete_distance, manhattan_dist, .001, NMI)"
   ]
  }
 ],
 "metadata": {
  "kernelspec": {
   "display_name": "Python 3",
   "language": "python",
   "name": "python3"
  },
  "language_info": {
   "codemirror_mode": {
    "name": "ipython",
    "version": 3
   },
   "file_extension": ".py",
   "mimetype": "text/x-python",
   "name": "python",
   "nbconvert_exporter": "python",
   "pygments_lexer": "ipython3",
   "version": "3.7.3"
  }
 },
 "nbformat": 4,
 "nbformat_minor": 2
}
